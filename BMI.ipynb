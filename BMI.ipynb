{
 "cells": [
  {
   "cell_type": "code",
   "execution_count": 114,
   "id": "b32c14c3",
   "metadata": {},
   "outputs": [],
   "source": [
    "import pandas as pd\n",
    "import json"
   ]
  },
  {
   "cell_type": "code",
   "execution_count": 115,
   "id": "578759ba",
   "metadata": {},
   "outputs": [],
   "source": [
    "def read_json (BMI):\n",
    "    df = pd.read_json(\"BMI.json\")#can insert any json file\n",
    "    return df"
   ]
  },
  {
   "cell_type": "code",
   "execution_count": 132,
   "id": "6abf468d",
   "metadata": {},
   "outputs": [],
   "source": [
    "def BMI(df):\n",
    "    df['BMI'] = ''\n",
    "    Height =df['HeightCm']\n",
    "    Weight = df['WeightKg']\n",
    "    df['BMI'] = round(Weight/((Height/100)**2))#BMI formula\n",
    "    return df\n"
   ]
  },
  {
   "cell_type": "code",
   "execution_count": 133,
   "id": "a1e647d6",
   "metadata": {},
   "outputs": [],
   "source": [
    "def BMI_Category(df):    \n",
    "    df['BMI Category'] = ''\n",
    "    df.loc[df['BMI']<=18.4, 'BMI Category'] = df.loc[df['BMI']<=18.4, 'BMI Category'].replace('', 'Underweight')\n",
    "    df.loc[(df['BMI']>=18.5) & (df['BMI']<=24.9), 'BMI Category'] = df.loc[(df['BMI']>=18.5) & (df['BMI']<=24.9), 'BMI Category'].replace('', 'Normal weight')\n",
    "    df.loc[(df['BMI']>=25) & (df['BMI']<=29.9), 'BMI Category'] = df.loc[(df['BMI']>=25) & (df['BMI']<=29.9), 'BMI Category'].replace('', 'Overweight')\n",
    "    df.loc[(df['BMI']>=30) & (df['BMI']<=34.9), 'BMI Category'] = df.loc[(df['BMI']>=30) & (df['BMI']<=34.9), 'BMI Category'].replace('', 'Moderately obese')\n",
    "    df.loc[(df['BMI']>=35) & (df['BMI']<=39.9), 'BMI Category'] = df.loc[(df['BMI']>=35) & (df['BMI']<=39.9), 'BMI Category'].replace('', 'Severely obese')\n",
    "    df.loc[df['BMI']>40, 'BMI Category'] = df.loc[df['BMI']>40, 'BMI Category'].replace('', 'Very severely obese')\n",
    "    return df"
   ]
  },
  {
   "cell_type": "code",
   "execution_count": 134,
   "id": "c174abf7",
   "metadata": {},
   "outputs": [],
   "source": [
    "def Health_risk(df):\n",
    "    df['Health risk'] = ''\n",
    "    df.loc[df['BMI']<=18.4, 'Health risk'] = df.loc[df['BMI']<=18.4, 'Health risk'].replace('', 'Malnutrition risk')\n",
    "    df.loc[(df['BMI']>=18.5) & (df['BMI']<=24.9), 'Health risk'] = df.loc[(df['BMI']>=18.5) & (df['BMI']<=24.9), 'Health risk'].replace('', 'Low risk')\n",
    "    df.loc[(df['BMI']>=25) & (df['BMI']<=29.9), 'Health risk'] = df.loc[(df['BMI']>=25) & (df['BMI']<=29.9), 'Health risk'].replace('', 'Enhanced risk')\n",
    "    df.loc[(df['BMI']>=30) & (df['BMI']<=34.9), 'Health risk'] = df.loc[(df['BMI']>=30) & (df['BMI']<=34.9), 'Health risk'].replace('', 'Medium risk')\n",
    "    df.loc[(df['BMI']>=35) & (df['BMI']<=39.9), 'Health risk'] = df.loc[(df['BMI']>=35) & (df['BMI']<=39.9), 'Health risk'].replace('', 'High risk')\n",
    "    df.loc[df['BMI']>40, 'Health risk'] = df.loc[df['BMI']>40, 'Health risk'].replace('', 'Very high risk')\n",
    "    return df"
   ]
  },
  {
   "cell_type": "code",
   "execution_count": 135,
   "id": "0ff93af2",
   "metadata": {},
   "outputs": [],
   "source": [
    "def save_file(df):\n",
    "    df.to_csv('output.csv',index=False)"
   ]
  },
  {
   "cell_type": "code",
   "execution_count": 143,
   "id": "b0de093a",
   "metadata": {},
   "outputs": [
    {
     "name": "stdout",
     "output_type": "stream",
     "text": [
      "The number of overweight people are 1\n"
     ]
    }
   ],
   "source": [
    "def counting_overweight(df):\n",
    "    overweight= (df['BMI Category']=='Overweight')\n",
    "    overweight= overweight.sum()   \n",
    "    return overweight\n",
    "print('The number of overweight people are ' + str(counting_overweight(df)) )"
   ]
  },
  {
   "cell_type": "code",
   "execution_count": 144,
   "id": "3def4ad5",
   "metadata": {},
   "outputs": [
    {
     "name": "stdout",
     "output_type": "stream",
     "text": [
      "   Gender  HeightCm  WeightKg   BMI      BMI Category    Health risk\n",
      "0    Male       171        96  33.0  Moderately obese    Medium risk\n",
      "1    Male       161        85  33.0  Moderately obese    Medium risk\n",
      "2    Male       180        77  24.0     Normal weight       Low risk\n",
      "3  Female       166        62  22.0     Normal weight       Low risk\n",
      "4  Female       150        70  31.0  Moderately obese    Medium risk\n",
      "5  Female       167        82  29.0        Overweight  Enhanced risk\n",
      "\n",
      "The number of overweight people are 1\n"
     ]
    }
   ],
   "source": [
    "if __name__ == '__main__':\n",
    "    final_file = 'BMI.json'\n",
    "    df = read_json(final_file)\n",
    "    df = BMI(df)\n",
    "    df = BMI_Category(df)\n",
    "    df = Health_risk(df)\n",
    "    # printing final result\n",
    "    print(df)\n",
    "    # saveing result in excel\n",
    "    save_file(df)\n",
    "    #number of overweight people\n",
    "    print('')\n",
    "    print('The number of overweight people are ' + str(count_overweight(df)) )"
   ]
  },
  {
   "cell_type": "code",
   "execution_count": null,
   "id": "fb58a7dd",
   "metadata": {},
   "outputs": [],
   "source": []
  }
 ],
 "metadata": {
  "kernelspec": {
   "display_name": "Python 3 (ipykernel)",
   "language": "python",
   "name": "python3"
  },
  "language_info": {
   "codemirror_mode": {
    "name": "ipython",
    "version": 3
   },
   "file_extension": ".py",
   "mimetype": "text/x-python",
   "name": "python",
   "nbconvert_exporter": "python",
   "pygments_lexer": "ipython3",
   "version": "3.9.12"
  }
 },
 "nbformat": 4,
 "nbformat_minor": 5
}
